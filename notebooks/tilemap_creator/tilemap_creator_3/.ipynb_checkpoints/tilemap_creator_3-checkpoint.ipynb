{
 "cells": [
  {
   "cell_type": "markdown",
   "metadata": {},
   "source": [
    "# Tilemap creator 3\n",
    "\n",
    "## For tiles that look like this:\n",
    "\n",
    "![](solid_ice.png)"
   ]
  },
  {
   "cell_type": "markdown",
   "metadata": {},
   "source": [
    "## Imports"
   ]
  },
  {
   "cell_type": "code",
   "execution_count": 2,
   "metadata": {
    "collapsed": true
   },
   "outputs": [],
   "source": [
    "# Python standard library\n",
    "\n",
    "# Scientific computing\n",
    "import numpy as np\n",
    "import scipy.ndimage\n",
    "import matplotlib.pyplot as plt"
   ]
  },
  {
   "cell_type": "markdown",
   "metadata": {},
   "source": [
    "## Load standard tiles"
   ]
  },
  {
   "cell_type": "code",
   "execution_count": 3,
   "metadata": {
    "collapsed": false
   },
   "outputs": [],
   "source": [
    "num_tiles = 4\n",
    "\n",
    "# Solid tile\n",
    "solid = scipy.ndimage.imread('solid.png')[:,:,:3]\n",
    "\n",
    "# Empty tile\n",
    "empty = scipy.ndimage.imread('empty.png')[:,:,:3]\n",
    "\n",
    "# Solid ice tile\n",
    "solid_ice = scipy.ndimage.imread('solid_ice.png')[:,:,:3]\n",
    "\n",
    "# Solid fire tile\n",
    "solid_fire = scipy.ndimage.imread('solid_fire.png')[:,:,:3]"
   ]
  },
  {
   "cell_type": "code",
   "execution_count": 4,
   "metadata": {
    "collapsed": false
   },
   "outputs": [
    {
     "data": {
      "image/png": "[encoded data removed]",
      "text/plain": [
       "<matplotlib.figure.Figure at 0x7f7ceb00fa50>"
      ]
     },
     "metadata": {},
     "output_type": "display_data"
    }
   ],
   "source": [
    "fig, axes = plt.subplots(2, 2, figsize = (4,4))\n",
    "\n",
    "\n",
    "# Empty\n",
    "tile = empty\n",
    "fig.sca(axes[0,0])\n",
    "plt.imshow(tile)\n",
    "\n",
    "# Solid\n",
    "tile = solid\n",
    "fig.sca(axes[0,1])\n",
    "plt.imshow(tile)\n",
    "\n",
    "\n",
    "# Solid ice\n",
    "tile = solid_ice\n",
    "fig.sca(axes[1,0])\n",
    "plt.imshow(tile)\n",
    "\n",
    "# Solid fire\n",
    "tile = solid_fire\n",
    "fig.sca(axes[1,1])\n",
    "plt.imshow(tile)\n",
    "\n",
    "# Finalize\n",
    "for axis in axes.flatten():\n",
    "    axis.set_xticks([])\n",
    "    axis.set_yticks([])\n",
    "\n",
    "\n",
    "plt.show()"
   ]
  },
  {
   "cell_type": "markdown",
   "metadata": {},
   "source": [
    "## Load room to be converted"
   ]
  },
  {
   "cell_type": "code",
   "execution_count": 11,
   "metadata": {
    "collapsed": false
   },
   "outputs": [
    {
     "name": "stdout",
     "output_type": "stream",
     "text": [
      "loaded room with shape (1760, 2880, 3) (pixels)\n",
      "loaded room with shape 110 x 180 (tiles)\n"
     ]
    }
   ],
   "source": [
    "# Set file path to room image\n",
    "room_base_path = '/home/prestonh/Desktop/Programming/gamedev/shoot/shoot/resources/rooms/'\n",
    "room_name = 'prototype_2'\n",
    "room_file_path = room_base_path + room_name + '/' + room_name + '.png'\n",
    "\n",
    "\n",
    "\n",
    "# Read in room image to numpy array\n",
    "room = scipy.ndimage.imread(room_file_path)\n",
    "\n",
    "\n",
    "# Remove alpha channel\n",
    "if room.shape[-1] == 4:\n",
    "    room = room[:,:,:3]\n",
    "    \n",
    "room_height = room.shape[0]/16\n",
    "room_width = room.shape[1]/16\n",
    "\n",
    "print 'loaded room with shape', room.shape, '(pixels)'\n",
    "print 'loaded room with shape', room_height, 'x', room_width, '(tiles)'"
   ]
  },
  {
   "cell_type": "markdown",
   "metadata": {
    "collapsed": true
   },
   "source": [
    "## Convert"
   ]
  },
  {
   "cell_type": "code",
   "execution_count": 27,
   "metadata": {
    "collapsed": false
   },
   "outputs": [],
   "source": [
    "output = np.empty((room_height, room_width), dtype = object)\n",
    "\n",
    "for i in range(room_height):\n",
    "    y = i*16\n",
    "    for j in range(room_width):\n",
    "        x = j*16\n",
    "        \n",
    "        tile = room[y:y+16, x:x+16,:]\n",
    "      \n",
    "        # Empty\n",
    "        if np.array_equal(tile, empty):\n",
    "            output[i,j] = 'E'\n",
    "    \n",
    "        # Solid\n",
    "        if np.array_equal(tile, solid):\n",
    "            output[i,j] = 'S'\n",
    "            \n",
    "        # Solid ice\n",
    "        if np.array_equal(tile, solid_ice):\n",
    "            output[i,j] = 'SI'\n",
    "            \n",
    "        # Solid fire\n",
    "        if np.array_equal(tile, solid_fire):\n",
    "            output[i,j] = 'SF'"
   ]
  },
  {
   "cell_type": "code",
   "execution_count": 29,
   "metadata": {
    "collapsed": false
   },
   "outputs": [],
   "source": [
    "with open(room_name + '.tmp', 'w') as file_handle:\n",
    "    np.savetxt(file_handle, output, fmt = '%s', delimiter = ',')"
   ]
  },
  {
   "cell_type": "code",
   "execution_count": null,
   "metadata": {
    "collapsed": true
   },
   "outputs": [],
   "source": []
  }
 ],
 "metadata": {
  "kernelspec": {
   "display_name": "Python 2",
   "language": "python",
   "name": "python2"
  },
  "language_info": {
   "codemirror_mode": {
    "name": "ipython",
    "version": 2
   },
   "file_extension": ".py",
   "mimetype": "text/x-python",
   "name": "python",
   "nbconvert_exporter": "python",
   "pygments_lexer": "ipython2",
   "version": "2.7.13"
  }
 },
 "nbformat": 4,
 "nbformat_minor": 2
}
