{
 "cells": [
  {
   "cell_type": "markdown",
   "metadata": {},
   "source": [
    "# Tilemap creator"
   ]
  },
  {
   "cell_type": "markdown",
   "metadata": {},
   "source": [
    "### Imports"
   ]
  },
  {
   "cell_type": "code",
   "execution_count": 1,
   "metadata": {
    "collapsed": true
   },
   "outputs": [],
   "source": [
    "# Python standard library\n",
    "import csv\n",
    "\n",
    "# Scipy\n",
    "import numpy as np\n",
    "import matplotlib.pyplot as plt\n",
    "%matplotlib inline\n",
    "\n",
    "# Other\n",
    "import PIL"
   ]
  },
  {
   "cell_type": "markdown",
   "metadata": {},
   "source": [
    "### Load image"
   ]
  },
  {
   "cell_type": "code",
   "execution_count": 2,
   "metadata": {
    "collapsed": false
   },
   "outputs": [],
   "source": [
    "# Open tiles file\n",
    "tiles_filepath = '/home/prestonh/Desktop/Programming/gamedev/shoot/shoot/resources/rooms/tiles.png'\n",
    "tiles_image = PIL.Image.open(tiles_filepath)\n",
    "tiles_array = np.array(tiles_image)\n",
    "\n",
    "# Open image\n",
    "input_image_filepath = '/home/prestonh/Desktop/Programming/gamedev/shoot/shoot/resources/rooms/prototype/prototype_room.png'\n",
    "room_image = PIL.Image.open(input_image_filepath)\n",
    "room_array = np.array(room_image)\n",
    "\n",
    "# Output filepath\n",
    "output_filepath = input_image_filepath.replace('.png', '.tmp')"
   ]
  },
  {
   "cell_type": "markdown",
   "metadata": {},
   "source": [
    "### Define colors and tiles"
   ]
  },
  {
   "cell_type": "code",
   "execution_count": 3,
   "metadata": {
    "collapsed": true
   },
   "outputs": [],
   "source": [
    "empty_tile = tiles_array[:16,:16]\n",
    "solid_tile = tiles_array[:16,16:32]"
   ]
  },
  {
   "cell_type": "code",
   "execution_count": 4,
   "metadata": {
    "collapsed": false
   },
   "outputs": [
    {
     "data": {
      "image/png": "[encoded data removed]",
      "text/plain": [
       "<matplotlib.figure.Figure at 0x7f1c18246310>"
      ]
     },
     "metadata": {},
     "output_type": "display_data"
    }
   ],
   "source": [
    "plt.imshow(solid_tile)\n",
    "plt.show()"
   ]
  },
  {
   "cell_type": "code",
   "execution_count": 5,
   "metadata": {
    "collapsed": true
   },
   "outputs": [],
   "source": [
    "black = [0,0,0]\n",
    "white = [255,255,255]"
   ]
  },
  {
   "cell_type": "markdown",
   "metadata": {},
   "source": [
    "### Loop over all tiles in room_array"
   ]
  },
  {
   "cell_type": "code",
   "execution_count": 6,
   "metadata": {
    "collapsed": false
   },
   "outputs": [],
   "source": [
    "# Open file\n",
    "with open(output_filepath, 'w') as fh:\n",
    "    writer = csv.writer(fh, delimiter = ',')\n",
    "    writer.writerow([room_array.shape[1], room_array.shape[0]])\n",
    "    \n",
    "    num_rows = room_array.shape[0]/16\n",
    "    num_columns = room_array.shape[1]/16\n",
    "\n",
    "\n",
    "    for i in range(num_rows):\n",
    "        row = []\n",
    "        for j in range(num_columns):\n",
    "            tile = room_array[16*i:16*(i+1),16*j:16*(j+1)]\n",
    "            \n",
    " \n",
    "            # Empty\n",
    "            if np.array_equal(tile, empty_tile):\n",
    "                row.append('E')\n",
    "            \n",
    "            # Solid\n",
    "            elif np.array_equal(tile, solid_tile):\n",
    "                row.append('S')\n",
    "                \n",
    "            # Ramp\n",
    "            else:\n",
    "                tile_x = j*16\n",
    "                tile_y = i*16\n",
    "                left_y = None\n",
    "                right_y = None\n",
    "                for k in reversed(range(16)):\n",
    "                    if np.array_equal(room_array[tile_y+k, tile_x], white) and left_y == None:\n",
    "                        #left_y = (tile_y+k+1)%16\n",
    "                        left_y = (tile_y+k)%16\n",
    "                        \n",
    "                    if np.array_equal(room_array[tile_y+k, tile_x+15], white) and right_y == None:\n",
    "                        #right_y = (tile_y+k+1)%16\n",
    "                        right_y = (tile_y+k)%16\n",
    "                        \n",
    "                if left_y == None:\n",
    "                    left_y = 0\n",
    "                    \n",
    "                if right_y == None:\n",
    "                    right_y = 0\n",
    "                    \n",
    "                \n",
    "                        \n",
    "        \n",
    "                row.append('R'+hex(left_y)+hex(right_y))\n",
    "                \n",
    "        writer.writerow(row)\n",
    "                \n",
    "            "
   ]
  },
  {
   "cell_type": "code",
   "execution_count": 2,
   "metadata": {
    "collapsed": false
   },
   "outputs": [
    {
     "name": "stdout",
     "output_type": "stream",
     "text": [
      "1\n"
     ]
    }
   ],
   "source": [
    "print (16+1)%16"
   ]
  },
  {
   "cell_type": "code",
   "execution_count": null,
   "metadata": {
    "collapsed": true
   },
   "outputs": [],
   "source": []
  }
 ],
 "metadata": {
  "kernelspec": {
   "display_name": "Python 2",
   "language": "python",
   "name": "python2"
  },
  "language_info": {
   "codemirror_mode": {
    "name": "ipython",
    "version": 2
   },
   "file_extension": ".py",
   "mimetype": "text/x-python",
   "name": "python",
   "nbconvert_exporter": "python",
   "pygments_lexer": "ipython2",
   "version": "2.7.13"
  }
 },
 "nbformat": 4,
 "nbformat_minor": 2
}
